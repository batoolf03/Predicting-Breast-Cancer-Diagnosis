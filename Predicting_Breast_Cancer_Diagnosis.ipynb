{
 "cells": [
  {
   "cell_type": "code",
   "execution_count": 1,
   "metadata": {},
   "outputs": [],
   "source": [
    "\n",
    "import pandas as pd\n",
    "import numpy as np\n",
    "path = 'C:/Users/Batool Fatima/Desktop/MSBA Fall 2019/MSBA 6420 - Predictive Analytics/'\n",
    "data = pd.read_csv(path + 'wdbc.data', header = None)"
   ]
  },
  {
   "cell_type": "code",
   "execution_count": 2,
   "metadata": {},
   "outputs": [],
   "source": [
    "names = [\"ID number\",\"Diagnosis\",\"radius_mean\",\"radius_sd\",\"radius_worst\",\"texture_mean\",\"texture_sd\",\"texture_worst\",\"perimeter_mean\",\n",
    "        \"perimeter_sd\",\"perimeter_worst\",\"area_mean\",\"area_sd\",\"area_worst\",\"smoothness_mean\",\"smoothness_sd\",\"smoothness_worst\",\n",
    "         \"compactness_mean\",\"compactness_sd\", \"compactness_worst\",\"concavity_mean\",\"concavity_sd\",\"concavity_worst\",\"concavity_mean\",\n",
    "         \"concavity_sd\",\"concavity_worst\",\"symmetry_mean\",\"symmetry_sd\",\"symmetry_worst\",\"fractal dimension_mean\",\"fractal dimension_sd\",\n",
    "         \"fractal dimension_worst\",]"
   ]
  },
  {
   "cell_type": "code",
   "execution_count": 3,
   "metadata": {},
   "outputs": [],
   "source": [
    "#renaming columns\n",
    "data.columns = names"
   ]
  },
  {
   "cell_type": "code",
   "execution_count": 4,
   "metadata": {},
   "outputs": [],
   "source": [
    "from sklearn.tree import DecisionTreeClassifier\n",
    "from sklearn.model_selection import train_test_split, cross_val_score\n",
    "from sklearn.metrics import confusion_matrix, classification_report\n",
    "import matplotlib.pyplot as plt\n",
    "from sklearn import linear_model, neighbors"
   ]
  },
  {
   "cell_type": "code",
   "execution_count": 5,
   "metadata": {},
   "outputs": [
    {
     "name": "stdout",
     "output_type": "stream",
     "text": [
      "TDataset features are:  ['radius_mean', 'radius_sd', 'radius_worst', 'texture_mean', 'texture_sd', 'texture_worst', 'perimeter_mean', 'perimeter_sd', 'perimeter_worst', 'area_mean', 'area_sd', 'area_worst', 'smoothness_mean', 'smoothness_sd', 'smoothness_worst', 'compactness_mean', 'compactness_sd', 'compactness_worst', 'concavity_mean', 'concavity_sd', 'concavity_worst', 'concavity_mean', 'concavity_sd', 'concavity_worst', 'symmetry_mean', 'symmetry_sd', 'symmetry_worst', 'fractal dimension_mean', 'fractal dimension_sd', 'fractal dimension_worst']\n",
      "\n",
      "\n",
      "Target variable is:  Diagnosis\n"
     ]
    }
   ],
   "source": [
    "## Dataset dimensions\n",
    "n_observe, n_feature = data.shape\n",
    "\n",
    "features = names[2:len(names)]\n",
    "target = names[1]\n",
    "print('TDataset features are: ', features)\n",
    "print('\\n')\n",
    "print('Target variable is: ', target)"
   ]
  },
  {
   "cell_type": "code",
   "execution_count": 6,
   "metadata": {},
   "outputs": [],
   "source": [
    "## Making a dummy variable for the target variable\n",
    "y=pd.get_dummies(data.Diagnosis)\n",
    "\n",
    "## getting all feature variables\n",
    "x_all = data[features]\n",
    "x_mean_features = data[features[0:30:3]]\n",
    "x_sd_features = data[features[1:30:3]]\n",
    "x_worst_features = data[features[2:30:3]]\n",
    "x_mean_sd_features =data[features[3:30:3]]"
   ]
  },
  {
   "cell_type": "code",
   "execution_count": 7,
   "metadata": {},
   "outputs": [],
   "source": [
    "## Splitting data into train (80%) and test(20%) sets (using all features) to create homogenous groups.\n",
    "## Stratified sampling ensures that the class distribution between train and test are the same\n",
    "X_train, X_test, y_train, y_test = train_test_split(x_all, y, test_size = 0.2, random_state=1)\n",
    " "
   ]
  },
  {
   "cell_type": "code",
   "execution_count": 8,
   "metadata": {},
   "outputs": [
    {
     "name": "stdout",
     "output_type": "stream",
     "text": [
      "The cross validation scores for depth  1 are\n",
      "[0.7826087  0.89130435 0.93478261 0.89130435 0.89130435 1.\n",
      " 0.95555556 0.86666667 0.93333333 0.88888889]\n",
      "\n",
      "\n",
      "The cross validation scores for depth  2 are\n",
      "[0.86956522 0.91304348 0.93478261 0.91304348 0.93478261 1.\n",
      " 0.93333333 0.91111111 0.95555556 0.91111111]\n",
      "\n",
      "\n",
      "The cross validation scores for depth  3 are\n",
      "[0.89130435 0.91304348 0.95652174 0.93478261 0.91304348 1.\n",
      " 0.93333333 0.93333333 0.95555556 0.95555556]\n",
      "\n",
      "\n",
      "The cross validation scores for depth  4 are\n",
      "[0.95652174 0.95652174 0.95652174 0.91304348 0.93478261 1.\n",
      " 0.97777778 0.93333333 0.97777778 0.97777778]\n",
      "\n",
      "\n",
      "The cross validation scores for depth  5 are\n",
      "[0.95652174 0.95652174 0.97826087 0.91304348 0.95652174 1.\n",
      " 0.95555556 0.91111111 0.95555556 0.97777778]\n",
      "\n",
      "\n",
      "The cross validation scores for depth  6 are\n",
      "[0.97826087 0.95652174 0.95652174 0.89130435 0.97826087 1.\n",
      " 0.97777778 0.88888889 0.95555556 0.95555556]\n",
      "\n",
      "\n",
      "The cross validation scores for depth  7 are\n",
      "[0.95652174 0.95652174 0.95652174 0.86956522 0.97826087 1.\n",
      " 0.95555556 0.93333333 0.93333333 0.95555556]\n",
      "\n",
      "\n",
      "The cross validation scores for depth  8 are\n",
      "[0.97826087 0.95652174 0.95652174 0.86956522 0.93478261 1.\n",
      " 0.97777778 0.95555556 0.95555556 0.95555556]\n",
      "\n",
      "\n",
      "The cross validation scores for depth  9 are\n",
      "[0.97826087 0.95652174 0.95652174 0.91304348 0.97826087 1.\n",
      " 0.95555556 0.93333333 0.93333333 0.97777778]\n",
      "\n",
      "\n",
      "The cross validation scores for depth  10 are\n",
      "[0.97826087 0.95652174 0.95652174 0.89130435 1.         1.\n",
      " 0.95555556 0.93333333 0.93333333 0.95555556]\n",
      "\n",
      "\n"
     ]
    }
   ],
   "source": [
    "## Decision Tree\n",
    "## Building models for all features\n",
    "mean_accuracy_train = []\n",
    "mean_accuracy_test = []\n",
    "depth = []\n",
    "for i in range(1,11):\n",
    "    clf = DecisionTreeClassifier(max_depth = i)\n",
    "    clf = clf.fit(X_train, y_train)\n",
    "    scores = cross_val_score(clf, X_train, y_train, cv=10)\n",
    "    mean_accuracy_train.append(scores.mean())\n",
    "    mean_accuracy_test.append(clf.score(X_test,y_test))\n",
    "    depth.append(i)\n",
    "    print('The cross validation scores for depth ',i, 'are')\n",
    "    print(scores)\n",
    "    print('\\n')\n",
    "\n",
    "## By executing this code, we can see from the result that depth 7 gives the best results \n",
    "## when all features are considered. So we build a tree with max_depth=7. We see the same from the graph below.\n",
    "## The max depth of a tree is the hyperparameter set by the user."
   ]
  },
  {
   "cell_type": "code",
   "execution_count": 9,
   "metadata": {},
   "outputs": [
    {
     "data": {
      "image/png": "[encoded data removed]",
      "text/plain": [
       "<Figure size 864x432 with 1 Axes>"
      ]
     },
     "metadata": {
      "needs_background": "light"
     },
     "output_type": "display_data"
    }
   ],
   "source": [
    "fig, ax = plt.subplots(nrows=1,ncols=1, figsize=(12,6))\n",
    "ax.plot(depth, mean_accuracy_train)\n",
    "ax.plot(depth, mean_accuracy_test)\n",
    "ax.set_xlabel('Tree Depth')\n",
    "ax.set_ylabel('Accuracy')\n",
    "ax.legend(['Train','Test'])\n",
    "\n",
    "ax.set_title('Change in accuracy with depth')\n",
    "plt.show()"
   ]
  },
  {
   "cell_type": "code",
   "execution_count": 10,
   "metadata": {},
   "outputs": [],
   "source": [
    "clf = DecisionTreeClassifier(max_depth=7)\n",
    "clf = clf.fit(X_train, y_train)"
   ]
  },
  {
   "cell_type": "code",
   "execution_count": 11,
   "metadata": {},
   "outputs": [],
   "source": [
    "y_pred = clf.predict(X_test)"
   ]
  },
  {
   "cell_type": "code",
   "execution_count": 18,
   "metadata": {},
   "outputs": [
    {
     "name": "stdout",
     "output_type": "stream",
     "text": [
      "[[71  5]\n",
      " [ 1 37]]\n"
     ]
    }
   ],
   "source": [
    "## Confusion matrix\n",
    "\n",
    "actuals = np.array(y_test)\n",
    "predictions = np.array(y_pred)\n",
    "print(confusion_matrix(predictions, actuals))"
   ]
  },
  {
   "cell_type": "code",
   "execution_count": 13,
   "metadata": {},
   "outputs": [
    {
     "name": "stdout",
     "output_type": "stream",
     "text": [
      "              precision    recall  f1-score   support\n",
      "\n",
      "           0       0.99      0.96      0.97        74\n",
      "           1       0.93      0.97      0.95        40\n",
      "\n",
      "   micro avg       0.96      0.96      0.96       114\n",
      "   macro avg       0.96      0.97      0.96       114\n",
      "weighted avg       0.97      0.96      0.97       114\n",
      " samples avg       0.96      0.96      0.96       114\n",
      "\n"
     ]
    }
   ],
   "source": [
    "print(classification_report(predictions, actuals))"
   ]
  },
  {
   "cell_type": "code",
   "execution_count": 14,
   "metadata": {},
   "outputs": [],
   "source": [
    "## Logistic Regression\n",
    "clf = linear_model.LogisticRegression(solver ='newton-cg')"
   ]
  },
  {
   "cell_type": "code",
   "execution_count": 15,
   "metadata": {},
   "outputs": [
    {
     "name": "stderr",
     "output_type": "stream",
     "text": [
      "C:\\Users\\Batool Fatima\\Anaconda3\\lib\\site-packages\\sklearn\\utils\\optimize.py:203: ConvergenceWarning: newton-cg failed to converge. Increase the number of iterations.\n",
      "  \"number of iterations.\", ConvergenceWarning)\n"
     ]
    }
   ],
   "source": [
    "## Splitting data into train (80%) and test(20%) sets (using all features) to create homogenous groups.\n",
    "## Stratified sampling ensures that the class distribution between train and test are the same\n",
    "\n",
    "X_train, X_test, y_train, y_test = train_test_split(x_all, data.Diagnosis, test_size = 0.2, random_state=1)\n",
    "clf = clf.fit(X_train, y_train)"
   ]
  },
  {
   "cell_type": "code",
   "execution_count": 16,
   "metadata": {},
   "outputs": [],
   "source": [
    "y_pred = clf.predict(X_test)"
   ]
  },
  {
   "cell_type": "code",
   "execution_count": 17,
   "metadata": {},
   "outputs": [
    {
     "name": "stdout",
     "output_type": "stream",
     "text": [
      "[[71  5]\n",
      " [ 1 37]]\n"
     ]
    }
   ],
   "source": [
    "## Model Performance\n",
    "\n",
    "## Confusion matrix\n",
    "actuals = np.array(y_test)\n",
    "predictions = np.array(y_pred)\n",
    "print(confusion_matrix(predictions, actuals))"
   ]
  },
  {
   "cell_type": "code",
   "execution_count": 19,
   "metadata": {},
   "outputs": [
    {
     "name": "stdout",
     "output_type": "stream",
     "text": [
      "              precision    recall  f1-score   support\n",
      "\n",
      "           B       0.99      0.93      0.96        76\n",
      "           M       0.88      0.97      0.93        38\n",
      "\n",
      "    accuracy                           0.95       114\n",
      "   macro avg       0.93      0.95      0.94       114\n",
      "weighted avg       0.95      0.95      0.95       114\n",
      "\n"
     ]
    }
   ],
   "source": [
    "print(classification_report(predictions, actuals))\n"
   ]
  },
  {
   "cell_type": "code",
   "execution_count": 20,
   "metadata": {},
   "outputs": [
    {
     "name": "stdout",
     "output_type": "stream",
     "text": [
      "Cross Validation scores for 1 neighbors are\n",
      "[0.95652174 0.82608696 0.84782609 0.86956522 0.89130435 0.95555556\n",
      " 0.93333333 0.97777778 0.97777778 0.88888889]\n",
      "\n",
      "\n",
      "Cross Validation scores for 2 neighbors are\n",
      "[0.95652174 0.86956522 0.86956522 0.93478261 0.93478261 0.93333333\n",
      " 0.93333333 0.97777778 0.95555556 0.88888889]\n",
      "\n",
      "\n",
      "Cross Validation scores for 3 neighbors are\n",
      "[0.89130435 0.82608696 0.86956522 0.91304348 0.93478261 0.93333333\n",
      " 0.93333333 0.97777778 0.97777778 0.91111111]\n",
      "\n",
      "\n",
      "Cross Validation scores for 4 neighbors are\n",
      "[0.93478261 0.82608696 0.86956522 0.91304348 0.93478261 0.91111111\n",
      " 0.95555556 0.97777778 0.93333333 0.91111111]\n",
      "\n",
      "\n",
      "Cross Validation scores for 5 neighbors are\n",
      "[0.95652174 0.82608696 0.86956522 0.91304348 0.89130435 0.93333333\n",
      " 0.95555556 0.97777778 0.97777778 0.86666667]\n",
      "\n",
      "\n",
      "Cross Validation scores for 6 neighbors are\n",
      "[0.95652174 0.82608696 0.89130435 0.91304348 0.91304348 0.91111111\n",
      " 0.95555556 0.97777778 0.95555556 0.84444444]\n",
      "\n",
      "\n",
      "Cross Validation scores for 7 neighbors are\n",
      "[0.93478261 0.80434783 0.91304348 0.89130435 0.89130435 0.88888889\n",
      " 0.95555556 0.97777778 0.97777778 0.86666667]\n",
      "\n",
      "\n",
      "Cross Validation scores for 8 neighbors are\n",
      "[0.95652174 0.86956522 0.91304348 0.91304348 0.91304348 0.91111111\n",
      " 0.95555556 0.97777778 0.93333333 0.84444444]\n",
      "\n",
      "\n",
      "Cross Validation scores for 9 neighbors are\n",
      "[0.93478261 0.91304348 0.91304348 0.91304348 0.91304348 0.93333333\n",
      " 0.95555556 1.         0.97777778 0.86666667]\n",
      "\n",
      "\n",
      "Cross Validation scores for 10 neighbors are\n",
      "[0.95652174 0.89130435 0.91304348 0.91304348 0.91304348 0.88888889\n",
      " 0.95555556 1.         0.97777778 0.84444444]\n",
      "\n",
      "\n",
      "Cross Validation scores for 11 neighbors are\n",
      "[0.93478261 0.93478261 0.91304348 0.91304348 0.91304348 0.91111111\n",
      " 0.95555556 1.         0.97777778 0.84444444]\n",
      "\n",
      "\n",
      "Cross Validation scores for 12 neighbors are\n",
      "[0.93478261 0.93478261 0.91304348 0.91304348 0.91304348 0.93333333\n",
      " 0.95555556 0.95555556 0.97777778 0.84444444]\n",
      "\n",
      "\n",
      "Cross Validation scores for 13 neighbors are\n",
      "[0.93478261 0.93478261 0.91304348 0.91304348 0.91304348 0.93333333\n",
      " 0.95555556 0.95555556 0.97777778 0.86666667]\n",
      "\n",
      "\n",
      "Cross Validation scores for 14 neighbors are\n",
      "[0.93478261 0.95652174 0.91304348 0.93478261 0.91304348 0.93333333\n",
      " 0.95555556 0.95555556 0.95555556 0.84444444]\n",
      "\n",
      "\n",
      "Cross Validation scores for 15 neighbors are\n",
      "[0.93478261 0.95652174 0.91304348 0.93478261 0.91304348 0.93333333\n",
      " 0.95555556 0.95555556 0.95555556 0.84444444]\n",
      "\n",
      "\n",
      "Cross Validation scores for 16 neighbors are\n",
      "[0.93478261 0.95652174 0.89130435 0.93478261 0.91304348 0.93333333\n",
      " 0.95555556 0.95555556 0.95555556 0.84444444]\n",
      "\n",
      "\n",
      "Cross Validation scores for 17 neighbors are\n",
      "[0.91304348 0.95652174 0.91304348 0.93478261 0.91304348 0.93333333\n",
      " 0.95555556 0.95555556 0.95555556 0.84444444]\n",
      "\n",
      "\n",
      "Cross Validation scores for 18 neighbors are\n",
      "[0.93478261 0.95652174 0.91304348 0.91304348 0.91304348 0.93333333\n",
      " 0.95555556 0.95555556 0.95555556 0.84444444]\n",
      "\n",
      "\n",
      "Cross Validation scores for 19 neighbors are\n",
      "[0.93478261 0.93478261 0.91304348 0.91304348 0.91304348 0.93333333\n",
      " 0.95555556 0.95555556 0.95555556 0.84444444]\n",
      "\n",
      "\n",
      "Cross Validation scores for 20 neighbors are\n",
      "[0.93478261 0.95652174 0.91304348 0.91304348 0.91304348 0.93333333\n",
      " 0.95555556 0.95555556 0.95555556 0.82222222]\n",
      "\n",
      "\n",
      "Cross Validation scores for 21 neighbors are\n",
      "[0.93478261 0.93478261 0.91304348 0.91304348 0.91304348 0.93333333\n",
      " 0.95555556 0.95555556 0.95555556 0.86666667]\n",
      "\n",
      "\n",
      "Cross Validation scores for 22 neighbors are\n",
      "[0.93478261 0.93478261 0.91304348 0.91304348 0.91304348 0.93333333\n",
      " 0.95555556 0.95555556 0.95555556 0.84444444]\n",
      "\n",
      "\n",
      "Cross Validation scores for 23 neighbors are\n",
      "[0.91304348 0.93478261 0.91304348 0.91304348 0.91304348 0.93333333\n",
      " 0.95555556 0.95555556 0.95555556 0.84444444]\n",
      "\n",
      "\n",
      "Cross Validation scores for 24 neighbors are\n",
      "[0.93478261 0.93478261 0.91304348 0.91304348 0.91304348 0.93333333\n",
      " 0.95555556 0.95555556 0.95555556 0.84444444]\n",
      "\n",
      "\n",
      "Cross Validation scores for 25 neighbors are\n",
      "[0.91304348 0.93478261 0.91304348 0.91304348 0.91304348 0.95555556\n",
      " 0.95555556 0.95555556 0.95555556 0.84444444]\n",
      "\n",
      "\n"
     ]
    }
   ],
   "source": [
    "## K nearest neighbor\n",
    "mean_accuracy_train = []\n",
    "mean_accuracy_test = []\n",
    "depth = []\n",
    "for i in range(1,26):\n",
    "    clf = neighbors.KNeighborsClassifier(i)\n",
    "    clf = clf.fit(X_train, y_train)\n",
    "    scores = cross_val_score(clf, X_train, y_train, cv=10)\n",
    "    mean_accuracy_train.append(scores.mean())\n",
    "    mean_accuracy_test.append(clf.score(X_test,y_test))\n",
    "    depth.append(i)\n",
    "    print('Cross Validation scores for', i, 'neighbors are')\n",
    "    print(scores)\n",
    "    print('\\n')"
   ]
  },
  {
   "cell_type": "code",
   "execution_count": 21,
   "metadata": {},
   "outputs": [
    {
     "data": {
      "image/png": "[encoded data removed]",
      "text/plain": [
       "<Figure size 864x432 with 1 Axes>"
      ]
     },
     "metadata": {
      "needs_background": "light"
     },
     "output_type": "display_data"
    }
   ],
   "source": [
    "fig, ax = plt.subplots(nrows=1,ncols=1, figsize=(12,6))\n",
    "ax.plot(depth, mean_accuracy_train,label='Train')\n",
    "ax.plot(depth, mean_accuracy_test, label='Test')\n",
    "ax.legend()\n",
    "ax.set_xlabel('Number of neighbors')\n",
    "ax.set_ylabel('Accuracy')\n",
    "# ax.legend(['Train','Test'])\n",
    "\n",
    "ax.set_title('Change in accuracy with number of neighbors')\n",
    "plt.show()\n",
    "## We can see from the graph illustrated below that at 14 neighbors, the training and test data have minimal overfitting or unfitting problem"
   ]
  },
  {
   "cell_type": "code",
   "execution_count": 22,
   "metadata": {},
   "outputs": [],
   "source": [
    "## Using 14 nearest neighbors for classifying\n",
    "clf = neighbors.KNeighborsClassifier(14)\n",
    "clf = clf.fit(X_train, y_train)"
   ]
  },
  {
   "cell_type": "code",
   "execution_count": 23,
   "metadata": {},
   "outputs": [],
   "source": [
    "# Using model to predict\n",
    "y_pred = clf.predict(X_test)"
   ]
  },
  {
   "cell_type": "code",
   "execution_count": 24,
   "metadata": {},
   "outputs": [
    {
     "name": "stdout",
     "output_type": "stream",
     "text": [
      "[[71  8]\n",
      " [ 1 34]]\n"
     ]
    }
   ],
   "source": [
    "## Model Performance\n",
    "## Confusion matrix\n",
    "actuals = np.array(y_test)\n",
    "predictions = np.array(y_pred)\n",
    "print(confusion_matrix(predictions, actuals))"
   ]
  },
  {
   "cell_type": "code",
   "execution_count": 25,
   "metadata": {},
   "outputs": [
    {
     "name": "stdout",
     "output_type": "stream",
     "text": [
      "              precision    recall  f1-score   support\n",
      "\n",
      "           B       0.99      0.90      0.94        79\n",
      "           M       0.81      0.97      0.88        35\n",
      "\n",
      "    accuracy                           0.92       114\n",
      "   macro avg       0.90      0.94      0.91       114\n",
      "weighted avg       0.93      0.92      0.92       114\n",
      "\n"
     ]
    }
   ],
   "source": [
    "print(classification_report(predictions, actuals))"
   ]
  },
  {
   "cell_type": "markdown",
   "metadata": {},
   "source": [
    "#### From the three models presented above, we can compare the results from the classification report to recommend which model would be the best in identifying the cancer tumor. Comparing the accuracy rate,the decision tree, logistic regression and KNN has an accuracy of 0.92, 0.95  and 0.92 respectively. Logistic regression has the highest level of accuracy however, we must compare the precision and accuracy rate to conslude our best fit model. The three models decision tree, logisitc regression and KNN have a precision of 0.81, 0.88 and 0.81 respectively. This also supports our choice that logistic regreesion best fits the model in predicting a malignant tumor with 88% precision.Lastly, the recall for all three of them is 0.97. It can safely be concluded that logistic regression is a better model than decision of max depth 7 and KNN with 14 neighbors to predict a malignant tumor."
   ]
  },
  {
   "cell_type": "code",
   "execution_count": 26,
   "metadata": {},
   "outputs": [],
   "source": [
    "from sklearn import svm"
   ]
  },
  {
   "cell_type": "code",
   "execution_count": 27,
   "metadata": {},
   "outputs": [],
   "source": [
    "hyperpara = [{'kernel':['rbf'],'gamma':[0.01,0.05,0.1,0.5], 'C':[0.1,1,10,50]}, {'kernel':['linear'],\n",
    "                                                                                 'gamma':[0.01,0.05,0.1,0.5], \\\n",
    "                                                                                 'C':[0.1,1,10,50]}]"
   ]
  },
  {
   "cell_type": "code",
   "execution_count": 28,
   "metadata": {},
   "outputs": [],
   "source": [
    "scores = ['f1']"
   ]
  },
  {
   "cell_type": "code",
   "execution_count": 30,
   "metadata": {},
   "outputs": [
    {
     "name": "stdout",
     "output_type": "stream",
     "text": [
      "finding best parameters for f1\n",
      "best parameters found: \n",
      "\n",
      "{'C': 50, 'gamma': 0.01, 'kernel': 'linear'}\n",
      "\n",
      "[0.38513514 0.38513514 0.38513514 0.38513514 0.38513514 0.38513514\n",
      " 0.38513514 0.38513514 0.38513514 0.38513514 0.38513514 0.38513514\n",
      " 0.38513514 0.38513514 0.38513514 0.38513514 0.95029068 0.95029068\n",
      " 0.95029068 0.95029068 0.94577192 0.94577192 0.94577192 0.94577192\n",
      " 0.95297851 0.95297851 0.95297851 0.95297851 0.95755945 0.95755945\n",
      " 0.95755945 0.95755945] [0.         0.         0.         0.         0.         0.\n",
      " 0.         0.         0.         0.         0.         0.\n",
      " 0.         0.         0.         0.         0.03933565 0.03933565\n",
      " 0.03933565 0.03933565 0.0215675  0.0215675  0.0215675  0.0215675\n",
      " 0.02435558 0.02435558 0.02435558 0.02435558 0.01589588 0.01589588\n",
      " 0.01589588 0.01589588]\n"
     ]
    }
   ],
   "source": [
    "import warnings; warnings.simplefilter('ignore')\n",
    "from sklearn.model_selection import GridSearchCV\n",
    "\n",
    "for x in scores:\n",
    "    print(\"finding best parameters for {0:s}\".format(x))\n",
    "    clf = GridSearchCV(svm.SVC(), hyperpara, cv=5, scoring= '%s_macro' % x)\n",
    "    clf.fit(X_train, y_train)\n",
    "    \n",
    "    print('best parameters found: ')\n",
    "    print()\n",
    "    print(clf.best_params_)\n",
    "    print()\n",
    "    means = clf.cv_results_['mean_test_score']\n",
    "    stds = clf.cv_results_['std_test_score']\n",
    "    print(means,stds)"
   ]
  },
  {
   "cell_type": "code",
   "execution_count": 31,
   "metadata": {},
   "outputs": [],
   "source": [
    "clf = svm.SVC(C=50, gamma = 0.01, kernel = 'linear')\n",
    "clf1 = svm.SVC(C=50, gamma = 0.01, kernel = 'linear', probability = True)"
   ]
  },
  {
   "cell_type": "code",
   "execution_count": 32,
   "metadata": {},
   "outputs": [],
   "source": [
    "clf = clf.fit(X_train, y_train)\n",
    "clf1 = clf1.fit(X_train, y_train)"
   ]
  },
  {
   "cell_type": "code",
   "execution_count": 33,
   "metadata": {},
   "outputs": [],
   "source": [
    "y_pred = clf.predict(X_test)\n",
    "y_score = clf1.predict_proba(X_test)"
   ]
  },
  {
   "cell_type": "code",
   "execution_count": 34,
   "metadata": {},
   "outputs": [
    {
     "name": "stdout",
     "output_type": "stream",
     "text": [
      "              precision    recall  f1-score   support\n",
      "\n",
      "           B       0.94      1.00      0.97        72\n",
      "           M       1.00      0.88      0.94        42\n",
      "\n",
      "    accuracy                           0.96       114\n",
      "   macro avg       0.97      0.94      0.95       114\n",
      "weighted avg       0.96      0.96      0.96       114\n",
      "\n"
     ]
    }
   ],
   "source": [
    "# using a few other tools like precision, recall and f1 metrics as well as roc curve and lift curve we \n",
    "# evaluate our classifier\n",
    "\n",
    "print(classification_report(y_test,y_pred))"
   ]
  },
  {
   "cell_type": "code",
   "execution_count": 35,
   "metadata": {},
   "outputs": [],
   "source": [
    "from sklearn.metrics import roc_curve, auc\n",
    "\n",
    "fpr, tpr, _ = roc_curve(y_test, y_score[:,1], pos_label = 'M')"
   ]
  },
  {
   "cell_type": "code",
   "execution_count": 36,
   "metadata": {},
   "outputs": [
    {
     "data": {
      "image/png": "[encoded data removed]",
      "text/plain": [
       "<Figure size 864x432 with 1 Axes>"
      ]
     },
     "metadata": {
      "needs_background": "light"
     },
     "output_type": "display_data"
    }
   ],
   "source": [
    "fig, ax= plt.subplots(nrows=1, ncols=1, figsize=(12,6))\n",
    "lw = 6\n",
    "ax.plot(fpr, tpr, color= 'darkorange', lw=lw, label = 'ROC Curve (area = %0.2f)' % auc(fpr,tpr))\n",
    "ax.plot([0,1],[0,1], color = 'navy', lw=lw, linestyle = '--')\n",
    "ax.set_xlim([0.0,1.0])\n",
    "ax.set_ylim([0.0,1.0])\n",
    "\n",
    "ax.set_xlabel('False Positive Rate')\n",
    "ax.set_ylabel('True Positive Rate')\n",
    "ax.set_title('ROC Example')\n",
    "\n",
    "plt.legend(loc = 'lower right')\n",
    "plt.show()\n"
   ]
  },
  {
   "cell_type": "markdown",
   "metadata": {},
   "source": [
    "\n",
    "### Conclusion:\n",
    "In conclusion, Logisitic regression and Decision tree are the best classifiers as their F-scores are the highest\n",
    "- DT (benign class: F-1 score = 0.96)\n",
    "- DT (malignant class: F-1 score = 0.93)\n",
    "- Log Reg(benign class: F-1 score = 0.97)\n",
    "- Log Reg (malignant class: F-1 score = 0.94)\n",
    "- SVM (benign class: F-1 score = 0.97)\n",
    "- SVM (malignant class: F-1 score = 0.95)"
   ]
  }
 ],
 "metadata": {
  "kernelspec": {
   "display_name": "Python 3",
   "language": "python",
   "name": "python3"
  },
  "language_info": {
   "codemirror_mode": {
    "name": "ipython",
    "version": 3
   },
   "file_extension": ".py",
   "mimetype": "text/x-python",
   "name": "python",
   "nbconvert_exporter": "python",
   "pygments_lexer": "ipython3",
   "version": "3.7.3"
  }
 },
 "nbformat": 4,
 "nbformat_minor": 4
}
